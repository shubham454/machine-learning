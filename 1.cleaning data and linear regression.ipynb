{
 "cells": [
  {
   "cell_type": "code",
   "execution_count": 28,
   "metadata": {},
   "outputs": [],
   "source": [
    "import numpy as np\n",
    "import pandas as pd"
   ]
  },
  {
   "cell_type": "code",
   "execution_count": 29,
   "metadata": {},
   "outputs": [],
   "source": [
    "ld=pd.read_csv('D:/programming tools/DATA SET/loans data.csv')"
   ]
  },
  {
   "cell_type": "code",
   "execution_count": 30,
   "metadata": {},
   "outputs": [
    {
     "data": {
      "text/plain": [
       "37500"
      ]
     },
     "execution_count": 30,
     "metadata": {},
     "output_type": "execute_result"
    }
   ],
   "source": [
    "ld.size"
   ]
  },
  {
   "cell_type": "code",
   "execution_count": 31,
   "metadata": {},
   "outputs": [
    {
     "data": {
      "text/plain": [
       "(2500, 15)"
      ]
     },
     "execution_count": 31,
     "metadata": {},
     "output_type": "execute_result"
    }
   ],
   "source": [
    "ld.shape"
   ]
  },
  {
   "cell_type": "code",
   "execution_count": 32,
   "metadata": {
    "scrolled": true
   },
   "outputs": [
    {
     "data": {
      "text/html": [
       "<div>\n",
       "<style scoped>\n",
       "    .dataframe tbody tr th:only-of-type {\n",
       "        vertical-align: middle;\n",
       "    }\n",
       "\n",
       "    .dataframe tbody tr th {\n",
       "        vertical-align: top;\n",
       "    }\n",
       "\n",
       "    .dataframe thead th {\n",
       "        text-align: right;\n",
       "    }\n",
       "</style>\n",
       "<table border=\"1\" class=\"dataframe\">\n",
       "  <thead>\n",
       "    <tr style=\"text-align: right;\">\n",
       "      <th></th>\n",
       "      <th>ID</th>\n",
       "      <th>Amount.Requested</th>\n",
       "      <th>Amount.Funded.By.Investors</th>\n",
       "      <th>Interest.Rate</th>\n",
       "      <th>Loan.Length</th>\n",
       "      <th>Loan.Purpose</th>\n",
       "      <th>Debt.To.Income.Ratio</th>\n",
       "      <th>State</th>\n",
       "      <th>Home.Ownership</th>\n",
       "      <th>Monthly.Income</th>\n",
       "      <th>FICO.Range</th>\n",
       "      <th>Open.CREDIT.Lines</th>\n",
       "      <th>Revolving.CREDIT.Balance</th>\n",
       "      <th>Inquiries.in.the.Last.6.Months</th>\n",
       "      <th>Employment.Length</th>\n",
       "    </tr>\n",
       "  </thead>\n",
       "  <tbody>\n",
       "    <tr>\n",
       "      <th>0</th>\n",
       "      <td>81174.0</td>\n",
       "      <td>20000</td>\n",
       "      <td>20000</td>\n",
       "      <td>8.90%</td>\n",
       "      <td>36 months</td>\n",
       "      <td>debt_consolidation</td>\n",
       "      <td>14.90%</td>\n",
       "      <td>SC</td>\n",
       "      <td>MORTGAGE</td>\n",
       "      <td>6541.67</td>\n",
       "      <td>735-739</td>\n",
       "      <td>14</td>\n",
       "      <td>14272</td>\n",
       "      <td>2.0</td>\n",
       "      <td>&lt; 1 year</td>\n",
       "    </tr>\n",
       "    <tr>\n",
       "      <th>1</th>\n",
       "      <td>99592.0</td>\n",
       "      <td>19200</td>\n",
       "      <td>19200</td>\n",
       "      <td>12.12%</td>\n",
       "      <td>36 months</td>\n",
       "      <td>debt_consolidation</td>\n",
       "      <td>28.36%</td>\n",
       "      <td>TX</td>\n",
       "      <td>MORTGAGE</td>\n",
       "      <td>4583.33</td>\n",
       "      <td>715-719</td>\n",
       "      <td>12</td>\n",
       "      <td>11140</td>\n",
       "      <td>1.0</td>\n",
       "      <td>2 years</td>\n",
       "    </tr>\n",
       "  </tbody>\n",
       "</table>\n",
       "</div>"
      ],
      "text/plain": [
       "        ID Amount.Requested Amount.Funded.By.Investors Interest.Rate  \\\n",
       "0  81174.0            20000                      20000         8.90%   \n",
       "1  99592.0            19200                      19200        12.12%   \n",
       "\n",
       "  Loan.Length        Loan.Purpose Debt.To.Income.Ratio State Home.Ownership  \\\n",
       "0   36 months  debt_consolidation               14.90%    SC       MORTGAGE   \n",
       "1   36 months  debt_consolidation               28.36%    TX       MORTGAGE   \n",
       "\n",
       "   Monthly.Income FICO.Range Open.CREDIT.Lines Revolving.CREDIT.Balance  \\\n",
       "0         6541.67    735-739                14                    14272   \n",
       "1         4583.33    715-719                12                    11140   \n",
       "\n",
       "   Inquiries.in.the.Last.6.Months Employment.Length  \n",
       "0                             2.0          < 1 year  \n",
       "1                             1.0           2 years  "
      ]
     },
     "execution_count": 32,
     "metadata": {},
     "output_type": "execute_result"
    }
   ],
   "source": [
    "ld.head(2)"
   ]
  },
  {
   "cell_type": "code",
   "execution_count": 33,
   "metadata": {},
   "outputs": [
    {
     "data": {
      "text/plain": [
       "ID                                float64\n",
       "Amount.Requested                   object\n",
       "Amount.Funded.By.Investors         object\n",
       "Interest.Rate                      object\n",
       "Loan.Length                        object\n",
       "Loan.Purpose                       object\n",
       "Debt.To.Income.Ratio               object\n",
       "State                              object\n",
       "Home.Ownership                     object\n",
       "Monthly.Income                    float64\n",
       "FICO.Range                         object\n",
       "Open.CREDIT.Lines                  object\n",
       "Revolving.CREDIT.Balance           object\n",
       "Inquiries.in.the.Last.6.Months    float64\n",
       "Employment.Length                  object\n",
       "dtype: object"
      ]
     },
     "execution_count": 33,
     "metadata": {},
     "output_type": "execute_result"
    }
   ],
   "source": [
    "ld.dtypes"
   ]
  },
  {
   "cell_type": "code",
   "execution_count": 34,
   "metadata": {},
   "outputs": [
    {
     "name": "stdout",
     "output_type": "stream",
     "text": [
      "<class 'pandas.core.frame.DataFrame'>\n",
      "RangeIndex: 2500 entries, 0 to 2499\n",
      "Data columns (total 15 columns):\n",
      "ID                                2499 non-null float64\n",
      "Amount.Requested                  2499 non-null object\n",
      "Amount.Funded.By.Investors        2499 non-null object\n",
      "Interest.Rate                     2500 non-null object\n",
      "Loan.Length                       2499 non-null object\n",
      "Loan.Purpose                      2499 non-null object\n",
      "Debt.To.Income.Ratio              2499 non-null object\n",
      "State                             2499 non-null object\n",
      "Home.Ownership                    2499 non-null object\n",
      "Monthly.Income                    2497 non-null float64\n",
      "FICO.Range                        2500 non-null object\n",
      "Open.CREDIT.Lines                 2496 non-null object\n",
      "Revolving.CREDIT.Balance          2497 non-null object\n",
      "Inquiries.in.the.Last.6.Months    2497 non-null float64\n",
      "Employment.Length                 2422 non-null object\n",
      "dtypes: float64(3), object(12)\n",
      "memory usage: 293.0+ KB\n"
     ]
    }
   ],
   "source": [
    "ld.info()"
   ]
  },
  {
   "cell_type": "code",
   "execution_count": 35,
   "metadata": {
    "scrolled": true
   },
   "outputs": [
    {
     "data": {
      "text/html": [
       "<div>\n",
       "<style scoped>\n",
       "    .dataframe tbody tr th:only-of-type {\n",
       "        vertical-align: middle;\n",
       "    }\n",
       "\n",
       "    .dataframe tbody tr th {\n",
       "        vertical-align: top;\n",
       "    }\n",
       "\n",
       "    .dataframe thead th {\n",
       "        text-align: right;\n",
       "    }\n",
       "</style>\n",
       "<table border=\"1\" class=\"dataframe\">\n",
       "  <thead>\n",
       "    <tr style=\"text-align: right;\">\n",
       "      <th></th>\n",
       "      <th>ID</th>\n",
       "      <th>Monthly.Income</th>\n",
       "      <th>Inquiries.in.the.Last.6.Months</th>\n",
       "    </tr>\n",
       "  </thead>\n",
       "  <tbody>\n",
       "    <tr>\n",
       "      <th>count</th>\n",
       "      <td>2499.000000</td>\n",
       "      <td>2497.000000</td>\n",
       "      <td>2497.000000</td>\n",
       "    </tr>\n",
       "    <tr>\n",
       "      <th>mean</th>\n",
       "      <td>51643.325330</td>\n",
       "      <td>5689.716608</td>\n",
       "      <td>0.906688</td>\n",
       "    </tr>\n",
       "    <tr>\n",
       "      <th>std</th>\n",
       "      <td>30053.637661</td>\n",
       "      <td>3963.568002</td>\n",
       "      <td>1.231149</td>\n",
       "    </tr>\n",
       "    <tr>\n",
       "      <th>min</th>\n",
       "      <td>10.000000</td>\n",
       "      <td>588.500000</td>\n",
       "      <td>0.000000</td>\n",
       "    </tr>\n",
       "    <tr>\n",
       "      <th>25%</th>\n",
       "      <td>26570.500000</td>\n",
       "      <td>3500.000000</td>\n",
       "      <td>0.000000</td>\n",
       "    </tr>\n",
       "    <tr>\n",
       "      <th>50%</th>\n",
       "      <td>50673.000000</td>\n",
       "      <td>5000.000000</td>\n",
       "      <td>0.000000</td>\n",
       "    </tr>\n",
       "    <tr>\n",
       "      <th>75%</th>\n",
       "      <td>77583.000000</td>\n",
       "      <td>6800.000000</td>\n",
       "      <td>1.000000</td>\n",
       "    </tr>\n",
       "    <tr>\n",
       "      <th>max</th>\n",
       "      <td>104202.000000</td>\n",
       "      <td>102750.000000</td>\n",
       "      <td>9.000000</td>\n",
       "    </tr>\n",
       "  </tbody>\n",
       "</table>\n",
       "</div>"
      ],
      "text/plain": [
       "                  ID  Monthly.Income  Inquiries.in.the.Last.6.Months\n",
       "count    2499.000000     2497.000000                     2497.000000\n",
       "mean    51643.325330     5689.716608                        0.906688\n",
       "std     30053.637661     3963.568002                        1.231149\n",
       "min        10.000000      588.500000                        0.000000\n",
       "25%     26570.500000     3500.000000                        0.000000\n",
       "50%     50673.000000     5000.000000                        0.000000\n",
       "75%     77583.000000     6800.000000                        1.000000\n",
       "max    104202.000000   102750.000000                        9.000000"
      ]
     },
     "execution_count": 35,
     "metadata": {},
     "output_type": "execute_result"
    }
   ],
   "source": [
    "ld.describe()"
   ]
  },
  {
   "cell_type": "markdown",
   "metadata": {},
   "source": [
    "# we have to convert all object to float or integer becouse for analysis we have to use only numerical data"
   ]
  },
  {
   "cell_type": "code",
   "execution_count": 36,
   "metadata": {},
   "outputs": [],
   "source": [
    "# replace vacant values by NaN\n",
    "ld['Amount.Requested']=pd.to_numeric(ld['Amount.Requested'],errors='coerce')"
   ]
  },
  {
   "cell_type": "code",
   "execution_count": 37,
   "metadata": {},
   "outputs": [],
   "source": [
    "ld['Amount.Funded.By.Investors']=pd.to_numeric(ld['Amount.Funded.By.Investors'],errors='coerse')"
   ]
  },
  {
   "cell_type": "code",
   "execution_count": 38,
   "metadata": {},
   "outputs": [],
   "source": [
    "ld['Interest.Rate']=ld['Interest.Rate'].str.replace('%','')"
   ]
  },
  {
   "cell_type": "code",
   "execution_count": 39,
   "metadata": {},
   "outputs": [],
   "source": [
    "ld['Interest.Rate']=pd.to_numeric(ld['Interest.Rate'],errors='coerse')"
   ]
  },
  {
   "cell_type": "code",
   "execution_count": 40,
   "metadata": {},
   "outputs": [],
   "source": [
    "# remove some strings values from table that was somewas problematic in nature\n",
    "ld['Loan.Length']=ld['Loan.Length'].str.replace('months','')"
   ]
  },
  {
   "cell_type": "code",
   "execution_count": 41,
   "metadata": {},
   "outputs": [],
   "source": [
    "ld['Loan.Length']=pd.to_numeric(ld['Loan.Length'],errors='coerse')"
   ]
  },
  {
   "cell_type": "code",
   "execution_count": 42,
   "metadata": {},
   "outputs": [],
   "source": [
    "ld['Debt.To.Income.Ratio']=ld['Debt.To.Income.Ratio'].str.replace('%','')"
   ]
  },
  {
   "cell_type": "code",
   "execution_count": 43,
   "metadata": {},
   "outputs": [],
   "source": [
    "ld['Debt.To.Income.Ratio']=pd.to_numeric(ld['Debt.To.Income.Ratio'],errors='coerse')"
   ]
  },
  {
   "cell_type": "code",
   "execution_count": 44,
   "metadata": {},
   "outputs": [
    {
     "data": {
      "text/plain": [
       "ID                                float64\n",
       "Amount.Requested                  float64\n",
       "Amount.Funded.By.Investors        float64\n",
       "Interest.Rate                     float64\n",
       "Loan.Length                       float64\n",
       "Loan.Purpose                       object\n",
       "Debt.To.Income.Ratio              float64\n",
       "State                              object\n",
       "Home.Ownership                     object\n",
       "Monthly.Income                    float64\n",
       "FICO.Range                         object\n",
       "Open.CREDIT.Lines                  object\n",
       "Revolving.CREDIT.Balance           object\n",
       "Inquiries.in.the.Last.6.Months    float64\n",
       "Employment.Length                  object\n",
       "dtype: object"
      ]
     },
     "execution_count": 44,
     "metadata": {},
     "output_type": "execute_result"
    }
   ],
   "source": [
    "ld.dtypes"
   ]
  },
  {
   "cell_type": "code",
   "execution_count": 45,
   "metadata": {},
   "outputs": [],
   "source": [
    "#for fico rang\n",
    "ld['F1']=ld['FICO.Range'].str[0:2]\n",
    "ld['F2']=ld['FICO.Range'].str[3:]"
   ]
  },
  {
   "cell_type": "code",
   "execution_count": 46,
   "metadata": {},
   "outputs": [],
   "source": [
    "ld['F1']=pd.to_numeric(ld['F1'],errors='coerse')"
   ]
  },
  {
   "cell_type": "code",
   "execution_count": 47,
   "metadata": {},
   "outputs": [],
   "source": [
    "ld['F2']=pd.to_numeric(ld['F2'],errors='cooerse')"
   ]
  },
  {
   "cell_type": "code",
   "execution_count": 48,
   "metadata": {},
   "outputs": [],
   "source": [
    "ld['FECO MEAN']=(ld['F1']+ld['F2'])/2"
   ]
  },
  {
   "cell_type": "code",
   "execution_count": 49,
   "metadata": {},
   "outputs": [
    {
     "data": {
      "text/html": [
       "<div>\n",
       "<style scoped>\n",
       "    .dataframe tbody tr th:only-of-type {\n",
       "        vertical-align: middle;\n",
       "    }\n",
       "\n",
       "    .dataframe tbody tr th {\n",
       "        vertical-align: top;\n",
       "    }\n",
       "\n",
       "    .dataframe thead th {\n",
       "        text-align: right;\n",
       "    }\n",
       "</style>\n",
       "<table border=\"1\" class=\"dataframe\">\n",
       "  <thead>\n",
       "    <tr style=\"text-align: right;\">\n",
       "      <th></th>\n",
       "      <th>ID</th>\n",
       "      <th>Amount.Requested</th>\n",
       "      <th>Amount.Funded.By.Investors</th>\n",
       "      <th>Interest.Rate</th>\n",
       "      <th>Loan.Length</th>\n",
       "      <th>Loan.Purpose</th>\n",
       "      <th>Debt.To.Income.Ratio</th>\n",
       "      <th>State</th>\n",
       "      <th>Home.Ownership</th>\n",
       "      <th>Monthly.Income</th>\n",
       "      <th>FICO.Range</th>\n",
       "      <th>Open.CREDIT.Lines</th>\n",
       "      <th>Revolving.CREDIT.Balance</th>\n",
       "      <th>Inquiries.in.the.Last.6.Months</th>\n",
       "      <th>Employment.Length</th>\n",
       "      <th>F1</th>\n",
       "      <th>F2</th>\n",
       "      <th>FECO MEAN</th>\n",
       "    </tr>\n",
       "  </thead>\n",
       "  <tbody>\n",
       "    <tr>\n",
       "      <th>0</th>\n",
       "      <td>81174.0</td>\n",
       "      <td>20000.0</td>\n",
       "      <td>20000.0</td>\n",
       "      <td>8.90</td>\n",
       "      <td>36.0</td>\n",
       "      <td>debt_consolidation</td>\n",
       "      <td>14.90</td>\n",
       "      <td>SC</td>\n",
       "      <td>MORTGAGE</td>\n",
       "      <td>6541.67</td>\n",
       "      <td>735-739</td>\n",
       "      <td>14</td>\n",
       "      <td>14272</td>\n",
       "      <td>2.0</td>\n",
       "      <td>&lt; 1 year</td>\n",
       "      <td>73</td>\n",
       "      <td>-739</td>\n",
       "      <td>-333.0</td>\n",
       "    </tr>\n",
       "    <tr>\n",
       "      <th>1</th>\n",
       "      <td>99592.0</td>\n",
       "      <td>19200.0</td>\n",
       "      <td>19200.0</td>\n",
       "      <td>12.12</td>\n",
       "      <td>36.0</td>\n",
       "      <td>debt_consolidation</td>\n",
       "      <td>28.36</td>\n",
       "      <td>TX</td>\n",
       "      <td>MORTGAGE</td>\n",
       "      <td>4583.33</td>\n",
       "      <td>715-719</td>\n",
       "      <td>12</td>\n",
       "      <td>11140</td>\n",
       "      <td>1.0</td>\n",
       "      <td>2 years</td>\n",
       "      <td>71</td>\n",
       "      <td>-719</td>\n",
       "      <td>-324.0</td>\n",
       "    </tr>\n",
       "  </tbody>\n",
       "</table>\n",
       "</div>"
      ],
      "text/plain": [
       "        ID  Amount.Requested  Amount.Funded.By.Investors  Interest.Rate  \\\n",
       "0  81174.0           20000.0                     20000.0           8.90   \n",
       "1  99592.0           19200.0                     19200.0          12.12   \n",
       "\n",
       "   Loan.Length        Loan.Purpose  Debt.To.Income.Ratio State Home.Ownership  \\\n",
       "0         36.0  debt_consolidation                 14.90    SC       MORTGAGE   \n",
       "1         36.0  debt_consolidation                 28.36    TX       MORTGAGE   \n",
       "\n",
       "   Monthly.Income FICO.Range Open.CREDIT.Lines Revolving.CREDIT.Balance  \\\n",
       "0         6541.67    735-739                14                    14272   \n",
       "1         4583.33    715-719                12                    11140   \n",
       "\n",
       "   Inquiries.in.the.Last.6.Months Employment.Length  F1   F2  FECO MEAN  \n",
       "0                             2.0          < 1 year  73 -739     -333.0  \n",
       "1                             1.0           2 years  71 -719     -324.0  "
      ]
     },
     "execution_count": 49,
     "metadata": {},
     "output_type": "execute_result"
    }
   ],
   "source": [
    "ld.head(2)"
   ]
  },
  {
   "cell_type": "code",
   "execution_count": 50,
   "metadata": {},
   "outputs": [],
   "source": [
    "ld['Employment.Length']=ld['Employment.Length'].str.replace('years','')"
   ]
  },
  {
   "cell_type": "code",
   "execution_count": 51,
   "metadata": {},
   "outputs": [],
   "source": [
    "ld['Employment.Length']=ld['Employment.Length'].str.replace('year','')\n",
    "\n",
    "ld['Employment.Length']=ld['Employment.Length'].str.replace('+','')\n",
    "ld['Employment.Length']=ld['Employment.Length'].str.replace('< 1','0')\n",
    "ld['Employment.Length']=pd.to_numeric(ld['Employment.Length'],errors='coerse')\n"
   ]
  },
  {
   "cell_type": "code",
   "execution_count": 52,
   "metadata": {},
   "outputs": [],
   "source": [
    "ld=ld.drop(['FICO.Range','F1','F2','Amount.Funded.By.Investors'],axis=1)"
   ]
  },
  {
   "cell_type": "code",
   "execution_count": 53,
   "metadata": {},
   "outputs": [
    {
     "data": {
      "text/html": [
       "<div>\n",
       "<style scoped>\n",
       "    .dataframe tbody tr th:only-of-type {\n",
       "        vertical-align: middle;\n",
       "    }\n",
       "\n",
       "    .dataframe tbody tr th {\n",
       "        vertical-align: top;\n",
       "    }\n",
       "\n",
       "    .dataframe thead th {\n",
       "        text-align: right;\n",
       "    }\n",
       "</style>\n",
       "<table border=\"1\" class=\"dataframe\">\n",
       "  <thead>\n",
       "    <tr style=\"text-align: right;\">\n",
       "      <th></th>\n",
       "      <th>ID</th>\n",
       "      <th>Amount.Requested</th>\n",
       "      <th>Interest.Rate</th>\n",
       "      <th>Loan.Length</th>\n",
       "      <th>Loan.Purpose</th>\n",
       "      <th>Debt.To.Income.Ratio</th>\n",
       "      <th>State</th>\n",
       "      <th>Home.Ownership</th>\n",
       "      <th>Monthly.Income</th>\n",
       "      <th>Open.CREDIT.Lines</th>\n",
       "      <th>Revolving.CREDIT.Balance</th>\n",
       "      <th>Inquiries.in.the.Last.6.Months</th>\n",
       "      <th>Employment.Length</th>\n",
       "      <th>FECO MEAN</th>\n",
       "    </tr>\n",
       "  </thead>\n",
       "  <tbody>\n",
       "    <tr>\n",
       "      <th>0</th>\n",
       "      <td>81174.0</td>\n",
       "      <td>20000.0</td>\n",
       "      <td>8.90</td>\n",
       "      <td>36.0</td>\n",
       "      <td>debt_consolidation</td>\n",
       "      <td>14.90</td>\n",
       "      <td>SC</td>\n",
       "      <td>MORTGAGE</td>\n",
       "      <td>6541.67</td>\n",
       "      <td>14</td>\n",
       "      <td>14272</td>\n",
       "      <td>2.0</td>\n",
       "      <td>0.0</td>\n",
       "      <td>-333.0</td>\n",
       "    </tr>\n",
       "    <tr>\n",
       "      <th>1</th>\n",
       "      <td>99592.0</td>\n",
       "      <td>19200.0</td>\n",
       "      <td>12.12</td>\n",
       "      <td>36.0</td>\n",
       "      <td>debt_consolidation</td>\n",
       "      <td>28.36</td>\n",
       "      <td>TX</td>\n",
       "      <td>MORTGAGE</td>\n",
       "      <td>4583.33</td>\n",
       "      <td>12</td>\n",
       "      <td>11140</td>\n",
       "      <td>1.0</td>\n",
       "      <td>2.0</td>\n",
       "      <td>-324.0</td>\n",
       "    </tr>\n",
       "  </tbody>\n",
       "</table>\n",
       "</div>"
      ],
      "text/plain": [
       "        ID  Amount.Requested  Interest.Rate  Loan.Length        Loan.Purpose  \\\n",
       "0  81174.0           20000.0           8.90         36.0  debt_consolidation   \n",
       "1  99592.0           19200.0          12.12         36.0  debt_consolidation   \n",
       "\n",
       "   Debt.To.Income.Ratio State Home.Ownership  Monthly.Income  \\\n",
       "0                 14.90    SC       MORTGAGE         6541.67   \n",
       "1                 28.36    TX       MORTGAGE         4583.33   \n",
       "\n",
       "  Open.CREDIT.Lines Revolving.CREDIT.Balance  Inquiries.in.the.Last.6.Months  \\\n",
       "0                14                    14272                             2.0   \n",
       "1                12                    11140                             1.0   \n",
       "\n",
       "   Employment.Length  FECO MEAN  \n",
       "0                0.0     -333.0  \n",
       "1                2.0     -324.0  "
      ]
     },
     "execution_count": 53,
     "metadata": {},
     "output_type": "execute_result"
    }
   ],
   "source": [
    "ld.head(2)"
   ]
  },
  {
   "cell_type": "code",
   "execution_count": 54,
   "metadata": {},
   "outputs": [],
   "source": [
    "ld['Revolving.CREDIT.Balance']=pd.to_numeric(ld['Revolving.CREDIT.Balance'],errors='coerse')\n",
    "ld['Open.CREDIT.Lines']=pd.to_numeric(ld['Open.CREDIT.Lines'],errors='coerse')"
   ]
  },
  {
   "cell_type": "code",
   "execution_count": 55,
   "metadata": {},
   "outputs": [],
   "source": [
    "ld=ld.drop(['State'],axis=1)"
   ]
  },
  {
   "cell_type": "code",
   "execution_count": 56,
   "metadata": {},
   "outputs": [
    {
     "data": {
      "text/plain": [
       "ID                                float64\n",
       "Amount.Requested                  float64\n",
       "Interest.Rate                     float64\n",
       "Loan.Length                       float64\n",
       "Loan.Purpose                       object\n",
       "Debt.To.Income.Ratio              float64\n",
       "Home.Ownership                     object\n",
       "Monthly.Income                    float64\n",
       "Open.CREDIT.Lines                 float64\n",
       "Revolving.CREDIT.Balance          float64\n",
       "Inquiries.in.the.Last.6.Months    float64\n",
       "Employment.Length                 float64\n",
       "FECO MEAN                         float64\n",
       "dtype: object"
      ]
     },
     "execution_count": 56,
     "metadata": {},
     "output_type": "execute_result"
    }
   ],
   "source": [
    "ld.dtypes"
   ]
  },
  {
   "cell_type": "code",
   "execution_count": 57,
   "metadata": {},
   "outputs": [],
   "source": [
    "dummy1=pd.get_dummies(ld['Home.Ownership'])"
   ]
  },
  {
   "cell_type": "code",
   "execution_count": 58,
   "metadata": {},
   "outputs": [
    {
     "data": {
      "text/html": [
       "<div>\n",
       "<style scoped>\n",
       "    .dataframe tbody tr th:only-of-type {\n",
       "        vertical-align: middle;\n",
       "    }\n",
       "\n",
       "    .dataframe tbody tr th {\n",
       "        vertical-align: top;\n",
       "    }\n",
       "\n",
       "    .dataframe thead th {\n",
       "        text-align: right;\n",
       "    }\n",
       "</style>\n",
       "<table border=\"1\" class=\"dataframe\">\n",
       "  <thead>\n",
       "    <tr style=\"text-align: right;\">\n",
       "      <th></th>\n",
       "      <th>MORTGAGE</th>\n",
       "      <th>NONE</th>\n",
       "      <th>OTHER</th>\n",
       "      <th>OWN</th>\n",
       "      <th>RENT</th>\n",
       "    </tr>\n",
       "  </thead>\n",
       "  <tbody>\n",
       "    <tr>\n",
       "      <th>0</th>\n",
       "      <td>1</td>\n",
       "      <td>0</td>\n",
       "      <td>0</td>\n",
       "      <td>0</td>\n",
       "      <td>0</td>\n",
       "    </tr>\n",
       "    <tr>\n",
       "      <th>1</th>\n",
       "      <td>1</td>\n",
       "      <td>0</td>\n",
       "      <td>0</td>\n",
       "      <td>0</td>\n",
       "      <td>0</td>\n",
       "    </tr>\n",
       "  </tbody>\n",
       "</table>\n",
       "</div>"
      ],
      "text/plain": [
       "   MORTGAGE  NONE  OTHER  OWN  RENT\n",
       "0         1     0      0    0     0\n",
       "1         1     0      0    0     0"
      ]
     },
     "execution_count": 58,
     "metadata": {},
     "output_type": "execute_result"
    }
   ],
   "source": [
    "dummy1.head(2)"
   ]
  },
  {
   "cell_type": "code",
   "execution_count": 59,
   "metadata": {},
   "outputs": [],
   "source": [
    "dummy2=dummy1.drop(['NONE'],axis=1)"
   ]
  },
  {
   "cell_type": "code",
   "execution_count": 60,
   "metadata": {
    "scrolled": true
   },
   "outputs": [
    {
     "data": {
      "text/html": [
       "<div>\n",
       "<style scoped>\n",
       "    .dataframe tbody tr th:only-of-type {\n",
       "        vertical-align: middle;\n",
       "    }\n",
       "\n",
       "    .dataframe tbody tr th {\n",
       "        vertical-align: top;\n",
       "    }\n",
       "\n",
       "    .dataframe thead th {\n",
       "        text-align: right;\n",
       "    }\n",
       "</style>\n",
       "<table border=\"1\" class=\"dataframe\">\n",
       "  <thead>\n",
       "    <tr style=\"text-align: right;\">\n",
       "      <th></th>\n",
       "      <th>MORTGAGE</th>\n",
       "      <th>OTHER</th>\n",
       "      <th>OWN</th>\n",
       "      <th>RENT</th>\n",
       "    </tr>\n",
       "  </thead>\n",
       "  <tbody>\n",
       "    <tr>\n",
       "      <th>0</th>\n",
       "      <td>1</td>\n",
       "      <td>0</td>\n",
       "      <td>0</td>\n",
       "      <td>0</td>\n",
       "    </tr>\n",
       "    <tr>\n",
       "      <th>1</th>\n",
       "      <td>1</td>\n",
       "      <td>0</td>\n",
       "      <td>0</td>\n",
       "      <td>0</td>\n",
       "    </tr>\n",
       "  </tbody>\n",
       "</table>\n",
       "</div>"
      ],
      "text/plain": [
       "   MORTGAGE  OTHER  OWN  RENT\n",
       "0         1      0    0     0\n",
       "1         1      0    0     0"
      ]
     },
     "execution_count": 60,
     "metadata": {},
     "output_type": "execute_result"
    }
   ],
   "source": [
    "dummy2.head(2)"
   ]
  },
  {
   "cell_type": "code",
   "execution_count": 61,
   "metadata": {},
   "outputs": [
    {
     "data": {
      "text/html": [
       "<div>\n",
       "<style scoped>\n",
       "    .dataframe tbody tr th:only-of-type {\n",
       "        vertical-align: middle;\n",
       "    }\n",
       "\n",
       "    .dataframe tbody tr th {\n",
       "        vertical-align: top;\n",
       "    }\n",
       "\n",
       "    .dataframe thead th {\n",
       "        text-align: right;\n",
       "    }\n",
       "</style>\n",
       "<table border=\"1\" class=\"dataframe\">\n",
       "  <thead>\n",
       "    <tr style=\"text-align: right;\">\n",
       "      <th></th>\n",
       "      <th>ID</th>\n",
       "      <th>Amount.Requested</th>\n",
       "      <th>Interest.Rate</th>\n",
       "      <th>Loan.Length</th>\n",
       "      <th>Loan.Purpose</th>\n",
       "      <th>Debt.To.Income.Ratio</th>\n",
       "      <th>Home.Ownership</th>\n",
       "      <th>Monthly.Income</th>\n",
       "      <th>Open.CREDIT.Lines</th>\n",
       "      <th>Revolving.CREDIT.Balance</th>\n",
       "      <th>Inquiries.in.the.Last.6.Months</th>\n",
       "      <th>Employment.Length</th>\n",
       "      <th>FECO MEAN</th>\n",
       "    </tr>\n",
       "  </thead>\n",
       "  <tbody>\n",
       "    <tr>\n",
       "      <th>0</th>\n",
       "      <td>81174.0</td>\n",
       "      <td>20000.0</td>\n",
       "      <td>8.90</td>\n",
       "      <td>36.0</td>\n",
       "      <td>debt_consolidation</td>\n",
       "      <td>14.90</td>\n",
       "      <td>MORTGAGE</td>\n",
       "      <td>6541.67</td>\n",
       "      <td>14.0</td>\n",
       "      <td>14272.0</td>\n",
       "      <td>2.0</td>\n",
       "      <td>0.0</td>\n",
       "      <td>-333.0</td>\n",
       "    </tr>\n",
       "    <tr>\n",
       "      <th>1</th>\n",
       "      <td>99592.0</td>\n",
       "      <td>19200.0</td>\n",
       "      <td>12.12</td>\n",
       "      <td>36.0</td>\n",
       "      <td>debt_consolidation</td>\n",
       "      <td>28.36</td>\n",
       "      <td>MORTGAGE</td>\n",
       "      <td>4583.33</td>\n",
       "      <td>12.0</td>\n",
       "      <td>11140.0</td>\n",
       "      <td>1.0</td>\n",
       "      <td>2.0</td>\n",
       "      <td>-324.0</td>\n",
       "    </tr>\n",
       "  </tbody>\n",
       "</table>\n",
       "</div>"
      ],
      "text/plain": [
       "        ID  Amount.Requested  Interest.Rate  Loan.Length        Loan.Purpose  \\\n",
       "0  81174.0           20000.0           8.90         36.0  debt_consolidation   \n",
       "1  99592.0           19200.0          12.12         36.0  debt_consolidation   \n",
       "\n",
       "   Debt.To.Income.Ratio Home.Ownership  Monthly.Income  Open.CREDIT.Lines  \\\n",
       "0                 14.90       MORTGAGE         6541.67               14.0   \n",
       "1                 28.36       MORTGAGE         4583.33               12.0   \n",
       "\n",
       "   Revolving.CREDIT.Balance  Inquiries.in.the.Last.6.Months  \\\n",
       "0                   14272.0                             2.0   \n",
       "1                   11140.0                             1.0   \n",
       "\n",
       "   Employment.Length  FECO MEAN  \n",
       "0                0.0     -333.0  \n",
       "1                2.0     -324.0  "
      ]
     },
     "execution_count": 61,
     "metadata": {},
     "output_type": "execute_result"
    }
   ],
   "source": [
    "ld.head(2)"
   ]
  },
  {
   "cell_type": "code",
   "execution_count": 62,
   "metadata": {},
   "outputs": [
    {
     "data": {
      "text/plain": [
       "debt_consolidation    1307\n",
       "credit_card            444\n",
       "other                  200\n",
       "home_improvement       152\n",
       "major_purchase         101\n",
       "small_business          87\n",
       "car                     50\n",
       "wedding                 39\n",
       "medical                 30\n",
       "moving                  29\n",
       "vacation                21\n",
       "house                   20\n",
       "educational             15\n",
       "renewable_energy         4\n",
       "Name: Loan.Purpose, dtype: int64"
      ]
     },
     "execution_count": 62,
     "metadata": {},
     "output_type": "execute_result"
    }
   ],
   "source": [
    "ld['Loan.Purpose'].value_counts()"
   ]
  },
  {
   "cell_type": "code",
   "execution_count": 63,
   "metadata": {},
   "outputs": [],
   "source": [
    "dummy3=pd.get_dummies(ld['Loan.Purpose'])"
   ]
  },
  {
   "cell_type": "code",
   "execution_count": 64,
   "metadata": {},
   "outputs": [
    {
     "data": {
      "text/html": [
       "<div>\n",
       "<style scoped>\n",
       "    .dataframe tbody tr th:only-of-type {\n",
       "        vertical-align: middle;\n",
       "    }\n",
       "\n",
       "    .dataframe tbody tr th {\n",
       "        vertical-align: top;\n",
       "    }\n",
       "\n",
       "    .dataframe thead th {\n",
       "        text-align: right;\n",
       "    }\n",
       "</style>\n",
       "<table border=\"1\" class=\"dataframe\">\n",
       "  <thead>\n",
       "    <tr style=\"text-align: right;\">\n",
       "      <th></th>\n",
       "      <th>car</th>\n",
       "      <th>credit_card</th>\n",
       "      <th>debt_consolidation</th>\n",
       "      <th>educational</th>\n",
       "      <th>home_improvement</th>\n",
       "      <th>house</th>\n",
       "      <th>major_purchase</th>\n",
       "      <th>medical</th>\n",
       "      <th>moving</th>\n",
       "      <th>other</th>\n",
       "      <th>renewable_energy</th>\n",
       "      <th>small_business</th>\n",
       "      <th>vacation</th>\n",
       "      <th>wedding</th>\n",
       "    </tr>\n",
       "  </thead>\n",
       "  <tbody>\n",
       "    <tr>\n",
       "      <th>0</th>\n",
       "      <td>0</td>\n",
       "      <td>0</td>\n",
       "      <td>1</td>\n",
       "      <td>0</td>\n",
       "      <td>0</td>\n",
       "      <td>0</td>\n",
       "      <td>0</td>\n",
       "      <td>0</td>\n",
       "      <td>0</td>\n",
       "      <td>0</td>\n",
       "      <td>0</td>\n",
       "      <td>0</td>\n",
       "      <td>0</td>\n",
       "      <td>0</td>\n",
       "    </tr>\n",
       "    <tr>\n",
       "      <th>1</th>\n",
       "      <td>0</td>\n",
       "      <td>0</td>\n",
       "      <td>1</td>\n",
       "      <td>0</td>\n",
       "      <td>0</td>\n",
       "      <td>0</td>\n",
       "      <td>0</td>\n",
       "      <td>0</td>\n",
       "      <td>0</td>\n",
       "      <td>0</td>\n",
       "      <td>0</td>\n",
       "      <td>0</td>\n",
       "      <td>0</td>\n",
       "      <td>0</td>\n",
       "    </tr>\n",
       "  </tbody>\n",
       "</table>\n",
       "</div>"
      ],
      "text/plain": [
       "   car  credit_card  debt_consolidation  educational  home_improvement  house  \\\n",
       "0    0            0                   1            0                 0      0   \n",
       "1    0            0                   1            0                 0      0   \n",
       "\n",
       "   major_purchase  medical  moving  other  renewable_energy  small_business  \\\n",
       "0               0        0       0      0                 0               0   \n",
       "1               0        0       0      0                 0               0   \n",
       "\n",
       "   vacation  wedding  \n",
       "0         0        0  \n",
       "1         0        0  "
      ]
     },
     "execution_count": 64,
     "metadata": {},
     "output_type": "execute_result"
    }
   ],
   "source": [
    "dummy3.head(2)"
   ]
  },
  {
   "cell_type": "code",
   "execution_count": 65,
   "metadata": {},
   "outputs": [],
   "source": [
    "ld_2=pd.concat([ld,dummy3['debt_consolidation'],dummy3['credit_card'],dummy3['other'],dummy3['home_improvement']],axis=1)"
   ]
  },
  {
   "cell_type": "code",
   "execution_count": 66,
   "metadata": {},
   "outputs": [],
   "source": [
    "ld_main=ld_2.drop(['Home.Ownership'],axis=1)"
   ]
  },
  {
   "cell_type": "code",
   "execution_count": 67,
   "metadata": {},
   "outputs": [],
   "source": [
    "\n",
    "ld_main=ld_main.drop(['Loan.Purpose'],axis=1)"
   ]
  },
  {
   "cell_type": "code",
   "execution_count": 68,
   "metadata": {},
   "outputs": [
    {
     "data": {
      "text/plain": [
       "ID                                float64\n",
       "Amount.Requested                  float64\n",
       "Interest.Rate                     float64\n",
       "Loan.Length                       float64\n",
       "Debt.To.Income.Ratio              float64\n",
       "Monthly.Income                    float64\n",
       "Open.CREDIT.Lines                 float64\n",
       "Revolving.CREDIT.Balance          float64\n",
       "Inquiries.in.the.Last.6.Months    float64\n",
       "Employment.Length                 float64\n",
       "FECO MEAN                         float64\n",
       "debt_consolidation                  uint8\n",
       "credit_card                         uint8\n",
       "other                               uint8\n",
       "home_improvement                    uint8\n",
       "dtype: object"
      ]
     },
     "execution_count": 68,
     "metadata": {},
     "output_type": "execute_result"
    }
   ],
   "source": [
    "ld_main.dtypes"
   ]
  },
  {
   "cell_type": "code",
   "execution_count": 69,
   "metadata": {},
   "outputs": [
    {
     "data": {
      "text/plain": [
       "ID                                 1\n",
       "Amount.Requested                   5\n",
       "Interest.Rate                      0\n",
       "Loan.Length                        2\n",
       "Debt.To.Income.Ratio               1\n",
       "Monthly.Income                     3\n",
       "Open.CREDIT.Lines                  9\n",
       "Revolving.CREDIT.Balance           5\n",
       "Inquiries.in.the.Last.6.Months     3\n",
       "Employment.Length                 80\n",
       "FECO MEAN                          0\n",
       "debt_consolidation                 0\n",
       "credit_card                        0\n",
       "other                              0\n",
       "home_improvement                   0\n",
       "dtype: int64"
      ]
     },
     "execution_count": 69,
     "metadata": {},
     "output_type": "execute_result"
    }
   ],
   "source": [
    "#to know where the value of NaN is stored and of what number\n",
    "ld_main.isnull().sum()"
   ]
  },
  {
   "cell_type": "code",
   "execution_count": 88,
   "metadata": {},
   "outputs": [],
   "source": [
    "#to remove the rows of value of NaN from the table\n",
    "ld_main=ld_main.dropna()"
   ]
  },
  {
   "cell_type": "code",
   "execution_count": 89,
   "metadata": {
    "scrolled": true
   },
   "outputs": [
    {
     "data": {
      "text/plain": [
       "ID                                0\n",
       "Amount.Requested                  0\n",
       "Interest.Rate                     0\n",
       "Loan.Length                       0\n",
       "Debt.To.Income.Ratio              0\n",
       "Monthly.Income                    0\n",
       "Open.CREDIT.Lines                 0\n",
       "Revolving.CREDIT.Balance          0\n",
       "Inquiries.in.the.Last.6.Months    0\n",
       "Employment.Length                 0\n",
       "FECO MEAN                         0\n",
       "debt_consolidation                0\n",
       "credit_card                       0\n",
       "other                             0\n",
       "home_improvement                  0\n",
       "dtype: int64"
      ]
     },
     "execution_count": 89,
     "metadata": {},
     "output_type": "execute_result"
    }
   ],
   "source": [
    "ld_main.isnull().sum()"
   ]
  },
  {
   "cell_type": "markdown",
   "metadata": {},
   "source": [
    "# Linear regression start"
   ]
  },
  {
   "cell_type": "code",
   "execution_count": 90,
   "metadata": {},
   "outputs": [],
   "source": [
    "# for selectingg data  randomlly we can import random command and scikit learn\n",
    "import random as rd"
   ]
  },
  {
   "cell_type": "code",
   "execution_count": 91,
   "metadata": {},
   "outputs": [],
   "source": [
    "# here we install sub package{model selection} of module{trin and test} of sk learn and same for linear regression\n",
    "#most of the time machine learning main function start with capital letter\n",
    "from sklearn.model_selection import train_test_split\n",
    "from sklearn.linear_model import LinearRegression"
   ]
  },
  {
   "cell_type": "code",
   "execution_count": 92,
   "metadata": {},
   "outputs": [],
   "source": [
    "# objective of linear regression is find out the intrest rate on loan and from personal data\n",
    "x=ld_main.drop(['Interest.Rate','ID'],axis=1) #\n",
    "y=ld_main['Interest.Rate']"
   ]
  },
  {
   "cell_type": "code",
   "execution_count": 93,
   "metadata": {},
   "outputs": [
    {
     "data": {
      "text/html": [
       "<div>\n",
       "<style scoped>\n",
       "    .dataframe tbody tr th:only-of-type {\n",
       "        vertical-align: middle;\n",
       "    }\n",
       "\n",
       "    .dataframe tbody tr th {\n",
       "        vertical-align: top;\n",
       "    }\n",
       "\n",
       "    .dataframe thead th {\n",
       "        text-align: right;\n",
       "    }\n",
       "</style>\n",
       "<table border=\"1\" class=\"dataframe\">\n",
       "  <thead>\n",
       "    <tr style=\"text-align: right;\">\n",
       "      <th></th>\n",
       "      <th>Amount.Requested</th>\n",
       "      <th>Loan.Length</th>\n",
       "      <th>Debt.To.Income.Ratio</th>\n",
       "      <th>Monthly.Income</th>\n",
       "      <th>Open.CREDIT.Lines</th>\n",
       "      <th>Revolving.CREDIT.Balance</th>\n",
       "      <th>Inquiries.in.the.Last.6.Months</th>\n",
       "      <th>Employment.Length</th>\n",
       "      <th>FECO MEAN</th>\n",
       "      <th>debt_consolidation</th>\n",
       "      <th>credit_card</th>\n",
       "      <th>other</th>\n",
       "      <th>home_improvement</th>\n",
       "    </tr>\n",
       "  </thead>\n",
       "  <tbody>\n",
       "    <tr>\n",
       "      <th>0</th>\n",
       "      <td>20000.0</td>\n",
       "      <td>36.0</td>\n",
       "      <td>14.90</td>\n",
       "      <td>6541.67</td>\n",
       "      <td>14.0</td>\n",
       "      <td>14272.0</td>\n",
       "      <td>2.0</td>\n",
       "      <td>0.0</td>\n",
       "      <td>-333.0</td>\n",
       "      <td>1</td>\n",
       "      <td>0</td>\n",
       "      <td>0</td>\n",
       "      <td>0</td>\n",
       "    </tr>\n",
       "    <tr>\n",
       "      <th>1</th>\n",
       "      <td>19200.0</td>\n",
       "      <td>36.0</td>\n",
       "      <td>28.36</td>\n",
       "      <td>4583.33</td>\n",
       "      <td>12.0</td>\n",
       "      <td>11140.0</td>\n",
       "      <td>1.0</td>\n",
       "      <td>2.0</td>\n",
       "      <td>-324.0</td>\n",
       "      <td>1</td>\n",
       "      <td>0</td>\n",
       "      <td>0</td>\n",
       "      <td>0</td>\n",
       "    </tr>\n",
       "  </tbody>\n",
       "</table>\n",
       "</div>"
      ],
      "text/plain": [
       "   Amount.Requested  Loan.Length  Debt.To.Income.Ratio  Monthly.Income  \\\n",
       "0           20000.0         36.0                 14.90         6541.67   \n",
       "1           19200.0         36.0                 28.36         4583.33   \n",
       "\n",
       "   Open.CREDIT.Lines  Revolving.CREDIT.Balance  \\\n",
       "0               14.0                   14272.0   \n",
       "1               12.0                   11140.0   \n",
       "\n",
       "   Inquiries.in.the.Last.6.Months  Employment.Length  FECO MEAN  \\\n",
       "0                             2.0                0.0     -333.0   \n",
       "1                             1.0                2.0     -324.0   \n",
       "\n",
       "   debt_consolidation  credit_card  other  home_improvement  \n",
       "0                   1            0      0                 0  \n",
       "1                   1            0      0                 0  "
      ]
     },
     "execution_count": 93,
     "metadata": {},
     "output_type": "execute_result"
    }
   ],
   "source": [
    "x.head(2)"
   ]
  },
  {
   "cell_type": "code",
   "execution_count": 94,
   "metadata": {
    "scrolled": true
   },
   "outputs": [
    {
     "data": {
      "text/plain": [
       "0     8.90\n",
       "1    12.12\n",
       "Name: Interest.Rate, dtype: float64"
      ]
     },
     "execution_count": 94,
     "metadata": {},
     "output_type": "execute_result"
    }
   ],
   "source": [
    "y.head(2)"
   ]
  },
  {
   "cell_type": "markdown",
   "metadata": {},
   "source": [
    "# to split data in train and test for machine learning"
   ]
  },
  {
   "cell_type": "code",
   "execution_count": 113,
   "metadata": {},
   "outputs": [],
   "source": [
    "xtrain,xtest,ytrain,ytest=train_test_split(x,y,test_size=.2,random_state=0)# for state=0 we can use any value"
   ]
  },
  {
   "cell_type": "code",
   "execution_count": 1,
   "metadata": {},
   "outputs": [
    {
     "ename": "SyntaxError",
     "evalue": "invalid syntax (<ipython-input-1-01fd64e2b590>, line 1)",
     "output_type": "error",
     "traceback": [
      "\u001b[1;36m  File \u001b[1;32m\"<ipython-input-1-01fd64e2b590>\"\u001b[1;36m, line \u001b[1;32m1\u001b[0m\n\u001b[1;33m    LR=LinearRegression()?\u001b[0m\n\u001b[1;37m                         ^\u001b[0m\n\u001b[1;31mSyntaxError\u001b[0m\u001b[1;31m:\u001b[0m invalid syntax\n"
     ]
    }
   ],
   "source": [
    "LR=LinearRegression()"
   ]
  },
  {
   "cell_type": "code",
   "execution_count": 115,
   "metadata": {},
   "outputs": [],
   "source": [
    "#fit(sub function of linear regression) function is for predicted line\n",
    "ld_model=LR.fit(xtrain,ytrain)"
   ]
  },
  {
   "cell_type": "code",
   "execution_count": 116,
   "metadata": {
    "scrolled": true
   },
   "outputs": [
    {
     "data": {
      "text/plain": [
       "array([ 1.61032553e-04,  1.30194602e-01, -1.53909173e-03, -3.78235362e-05,\n",
       "       -3.19909718e-02, -4.74458107e-06,  3.32430431e-01,  8.03412602e-03,\n",
       "        1.95911419e-01, -3.92837057e-01, -6.80813243e-01,  3.61879519e-01,\n",
       "       -4.26339091e-01])"
      ]
     },
     "execution_count": 116,
     "metadata": {},
     "output_type": "execute_result"
    }
   ],
   "source": [
    "# to know the coefficient of x \n",
    "ld_model.coef_"
   ]
  },
  {
   "cell_type": "code",
   "execution_count": 117,
   "metadata": {
    "scrolled": true
   },
   "outputs": [
    {
     "data": {
      "text/html": [
       "<div>\n",
       "<style scoped>\n",
       "    .dataframe tbody tr th:only-of-type {\n",
       "        vertical-align: middle;\n",
       "    }\n",
       "\n",
       "    .dataframe tbody tr th {\n",
       "        vertical-align: top;\n",
       "    }\n",
       "\n",
       "    .dataframe thead th {\n",
       "        text-align: right;\n",
       "    }\n",
       "</style>\n",
       "<table border=\"1\" class=\"dataframe\">\n",
       "  <thead>\n",
       "    <tr style=\"text-align: right;\">\n",
       "      <th></th>\n",
       "      <th>0</th>\n",
       "      <th>coefficient</th>\n",
       "    </tr>\n",
       "  </thead>\n",
       "  <tbody>\n",
       "    <tr>\n",
       "      <th>0</th>\n",
       "      <td>Amount.Requested</td>\n",
       "      <td>0.000161</td>\n",
       "    </tr>\n",
       "    <tr>\n",
       "      <th>1</th>\n",
       "      <td>Loan.Length</td>\n",
       "      <td>0.130195</td>\n",
       "    </tr>\n",
       "    <tr>\n",
       "      <th>2</th>\n",
       "      <td>Debt.To.Income.Ratio</td>\n",
       "      <td>-0.001539</td>\n",
       "    </tr>\n",
       "    <tr>\n",
       "      <th>3</th>\n",
       "      <td>Monthly.Income</td>\n",
       "      <td>-0.000038</td>\n",
       "    </tr>\n",
       "    <tr>\n",
       "      <th>4</th>\n",
       "      <td>Open.CREDIT.Lines</td>\n",
       "      <td>-0.031991</td>\n",
       "    </tr>\n",
       "    <tr>\n",
       "      <th>5</th>\n",
       "      <td>Revolving.CREDIT.Balance</td>\n",
       "      <td>-0.000005</td>\n",
       "    </tr>\n",
       "    <tr>\n",
       "      <th>6</th>\n",
       "      <td>Inquiries.in.the.Last.6.Months</td>\n",
       "      <td>0.332430</td>\n",
       "    </tr>\n",
       "    <tr>\n",
       "      <th>7</th>\n",
       "      <td>Employment.Length</td>\n",
       "      <td>0.008034</td>\n",
       "    </tr>\n",
       "    <tr>\n",
       "      <th>8</th>\n",
       "      <td>FECO MEAN</td>\n",
       "      <td>0.195911</td>\n",
       "    </tr>\n",
       "    <tr>\n",
       "      <th>9</th>\n",
       "      <td>debt_consolidation</td>\n",
       "      <td>-0.392837</td>\n",
       "    </tr>\n",
       "    <tr>\n",
       "      <th>10</th>\n",
       "      <td>credit_card</td>\n",
       "      <td>-0.680813</td>\n",
       "    </tr>\n",
       "    <tr>\n",
       "      <th>11</th>\n",
       "      <td>other</td>\n",
       "      <td>0.361880</td>\n",
       "    </tr>\n",
       "    <tr>\n",
       "      <th>12</th>\n",
       "      <td>home_improvement</td>\n",
       "      <td>-0.426339</td>\n",
       "    </tr>\n",
       "  </tbody>\n",
       "</table>\n",
       "</div>"
      ],
      "text/plain": [
       "                                 0  coefficient\n",
       "0                 Amount.Requested     0.000161\n",
       "1                      Loan.Length     0.130195\n",
       "2             Debt.To.Income.Ratio    -0.001539\n",
       "3                   Monthly.Income    -0.000038\n",
       "4                Open.CREDIT.Lines    -0.031991\n",
       "5         Revolving.CREDIT.Balance    -0.000005\n",
       "6   Inquiries.in.the.Last.6.Months     0.332430\n",
       "7                Employment.Length     0.008034\n",
       "8                        FECO MEAN     0.195911\n",
       "9               debt_consolidation    -0.392837\n",
       "10                     credit_card    -0.680813\n",
       "11                           other     0.361880\n",
       "12                home_improvement    -0.426339"
      ]
     },
     "execution_count": 117,
     "metadata": {},
     "output_type": "execute_result"
    }
   ],
   "source": [
    "temp_model_coeff=pd.DataFrame(xtrain.columns)\n",
    "temp_model_coeff['coefficient']=ld_model.coef_\n",
    "temp_model_coeff"
   ]
  },
  {
   "cell_type": "markdown",
   "metadata": {},
   "source": [
    "# for predicting intrest rate"
   ]
  },
  {
   "cell_type": "code",
   "execution_count": 118,
   "metadata": {},
   "outputs": [],
   "source": [
    "yprd=LR.predict(xtest)"
   ]
  },
  {
   "cell_type": "code",
   "execution_count": 119,
   "metadata": {},
   "outputs": [
    {
     "data": {
      "text/plain": [
       "array([13.68792792, 11.83770161,  8.20449106, 14.70788256, 12.46782957,\n",
       "        9.32856704, 15.60745901,  7.76651684, 12.14996004, 14.65778768,\n",
       "       18.1904815 , 12.96393446, 15.74961338, 19.65214794, 11.64793004,\n",
       "        3.62226036, 16.61971692,  2.83212164, 13.59618676, 11.59668893,\n",
       "       10.91607512,  9.165678  , 18.74059525, 10.52520187, 14.96421368,\n",
       "       15.1809477 , 20.5805653 , 10.85336561, 16.3155022 ,  7.06389271,\n",
       "       10.94173796, 16.6078397 ,  8.3249115 , 14.49796235,  9.43275907,\n",
       "       11.29132238, 10.68746809,  7.77283269,  2.18223672,  8.94311238,\n",
       "       14.02197423, 11.30335899,  6.30511846, 10.13580278, 16.86691774,\n",
       "       15.83427492, 14.41920904, 11.78355566, 15.25214492, 14.01594666,\n",
       "       12.01195896, 13.51028653, 15.48404083, 15.46266754, 13.88088577,\n",
       "       17.24648244, 13.60054906, 16.95596668, 15.27245858, 15.04634797,\n",
       "       19.53926655, 13.73379478, 14.75595683, 14.75135436, 11.77274494,\n",
       "       14.92506281, 13.14680288, 17.81752738, 10.20044882, 10.12819949,\n",
       "       11.30267158, 14.45094983, 13.83258555, 13.58205732, 17.38329382,\n",
       "       15.39811248,  2.68270159, 16.91865997, 14.10270168,  8.12196743,\n",
       "        9.78177327, 13.50622958, 19.51094002, 14.00000494, 15.92649551,\n",
       "       15.08141529, 14.73943425, 15.77345484, 11.50584967, 14.1479172 ,\n",
       "       19.86854959, 10.40142012, 15.01099261,  5.81417913, 17.47793546,\n",
       "       16.7599266 , 13.86950835, 13.7998881 ,  8.06985591,  9.62012475,\n",
       "       12.94203677, 11.21361899, 16.8166035 , 12.78314727, 10.20300202,\n",
       "       14.05027271,  9.20330959, 17.38063197, 16.29752315, 14.97826555,\n",
       "        9.03368542, 17.601452  , 12.20702982, 10.81676702, 11.32674247,\n",
       "       17.14198701, 17.65778343, 15.21733939, 20.76072099, 21.8157654 ,\n",
       "       10.16050994, 11.72099126,  5.74673171, 10.41146952, 14.93008947,\n",
       "       17.23212315, 10.65261838, 11.54202223, 10.82757434, 19.08984668,\n",
       "       17.33158108, 15.45509411, 15.7015984 , 16.88945429,  5.49668035,\n",
       "       14.42041896, 14.83328422, 10.82890305,  9.36525369,  9.67640611,\n",
       "       12.41856404,  7.52424181, 15.63572852,  5.60304554, 13.92516734,\n",
       "        9.42983749, 14.49048564, 11.98577236, 11.30598091,  7.49747049,\n",
       "       17.51668374, 12.27570761,  7.84400371, 12.11401184, 13.18062621,\n",
       "       12.90097899,  9.63014398, 13.86586788, 12.7173121 ,  9.94960888,\n",
       "        4.35398136, 13.78527715, 17.90323983,  9.05006477,  4.02455645,\n",
       "       13.00686796,  9.92648174, 11.76420022, 15.64146679,  8.37515101,\n",
       "       13.64915041, 11.21839879, 13.33465638, 13.33531773, 16.63014851,\n",
       "       14.46367178, 13.56380876, 14.4067365 , 15.2046966 , 19.44841283,\n",
       "       10.01285302,  9.25043188, 12.59471526, 16.89575193,  5.62627479,\n",
       "       16.38995195, 12.06850405, 14.02499332, 11.34287521, 12.52653895,\n",
       "       18.19244378, 11.95637899, 16.43752795, 10.36530133, 12.29711043,\n",
       "        6.5836273 ,  9.86169289, 18.07208077,  6.82403738, 14.02769401,\n",
       "       14.77156043,  4.5310804 , 16.84067179, 12.74862632, 10.90665176,\n",
       "       14.46186996, 12.16137159, 14.76283622, 15.35338319, 21.17417705,\n",
       "       15.7930495 , 15.08817391,  9.30212398, 13.67890468, 14.90151914,\n",
       "       17.56852643, 17.07888547, 14.13621821, 16.4744916 , 15.68733659,\n",
       "       14.08993396, 14.63783428, 14.28768994, 18.29968339, 16.34187247,\n",
       "       13.85300924, 14.4895692 , 12.04497298, 10.69363198, 20.72807233,\n",
       "       20.5502591 , 13.43950604, 11.06098905, 12.21130169, 13.65764507,\n",
       "       14.79065861, 15.20043231, 12.32460456, 13.30319299, 16.40817927,\n",
       "       14.74013208, 16.62253003,  6.29249288, 13.60718391, 10.85458942,\n",
       "       11.9110627 , 14.09742238, 15.25277965, 17.15817911, 10.54887622,\n",
       "       13.17903542, 11.04961355, 11.84631602, 10.48985586, 19.61543922,\n",
       "       13.58702724, 14.45505161, 15.90198214, 18.93252912, 13.84761634,\n",
       "       11.32906976, 20.36753299, 16.53575411, 10.94944634, 17.80637295,\n",
       "       15.18699367, 13.2397769 , 19.78093768,  6.52029031,  7.67133279,\n",
       "       12.31357966, 13.58746709, 13.37941574, 11.54310872,  7.38187959,\n",
       "       12.03149439, 10.30460935, 12.42749628, 11.06730312, 18.11087471,\n",
       "        8.68185868, 13.21948712, 18.61129982,  6.24744507, 12.55129856,\n",
       "       13.78565838, 15.44019618, 15.22691933, 13.78139536,  2.85478204,\n",
       "       15.52805651, 13.08545103, 10.42073724, 16.26096575, 14.81199398,\n",
       "       15.09910473, 14.27912042, 15.89968922, 15.62129293, 14.30951145,\n",
       "        6.55709594,  9.14480434,  8.98457562, 20.13270835, 13.33975035,\n",
       "       14.28768623, 17.28128804,  9.12871447, 19.46699372, 12.2251461 ,\n",
       "        7.42571743,  9.95843959, 16.43034007, 11.72200752, 16.14202999,\n",
       "       17.10229827, 16.75703885, 12.33264579, 10.56121689, 14.74804855,\n",
       "       13.46228386, 14.84791398, 14.89363198, 18.34009728, 10.14108162,\n",
       "       15.07824864, 18.75404878, 16.76379168,  7.32868669, 16.18657116,\n",
       "       13.02658597,  5.40616634, 11.25312637, 18.91392988, 16.1176537 ,\n",
       "       22.41900408, 12.93205933, 14.01367256, 11.37296907,  9.26620977,\n",
       "       14.63194265, 13.16873615, 13.20309765, 11.57325854, 16.97837355,\n",
       "       11.73969968, 14.28094842, 18.19430073, 14.75895828, 10.97373417,\n",
       "       10.75154269, 15.99975108,  3.58279408,  7.35029685, 11.65242539,\n",
       "        8.46796212, 13.69798107,  9.00705962, 16.79862979, 10.89392919,\n",
       "       20.37680636, 20.54530445, 12.26766326, 17.20981223, 15.19573489,\n",
       "       12.52348465,  6.64551585,  9.7023525 , 20.40422301, 11.81154384,\n",
       "       11.16125837, 12.16960817, 14.90670848, 15.9839316 , 13.67956024,\n",
       "        6.51185532, 19.02782502, 12.83327461, 14.21464019, 11.73462186,\n",
       "       18.02410688,  3.74638901, 15.40055597, 15.12971381,  8.53767054,\n",
       "       16.88012557, 15.08463023, 14.39180292,  5.96895956, 10.67992727,\n",
       "       12.822089  , 10.22135647, 12.9224849 , 18.9800649 , 13.41922952,\n",
       "       13.94998699, 20.43376518, 12.99205595, 19.66602807, 13.84718237,\n",
       "       15.80167326, 14.87820208, 14.45331212, 16.13514428, 12.9082603 ,\n",
       "       21.72804058, 12.55386275, 10.72848986, 14.14935162,  9.53549579,\n",
       "       15.30854644, 17.87656225, 17.12877999, 12.24144985,  7.14009545,\n",
       "       10.54716848, 13.60274647,  6.44555786,  5.60571142, 14.26289614,\n",
       "       11.2546742 , 13.27495837, 15.45188401, 12.04379032,  7.67619745,\n",
       "       10.58982864, 14.30592122, 15.00782643, 14.69992748,  5.04196793,\n",
       "       17.30802805, 10.13532228, 16.09088643,  8.88188773, 11.47756605,\n",
       "       13.94631489,  4.89584472, 13.62234525, 16.4331924 ,  9.85024943,\n",
       "       17.34553003, 14.64988827, 13.70097841, 14.98864752, 15.64155193,\n",
       "       12.65250424, 11.24797973, 13.25332444, 21.52929266, 14.4068917 ,\n",
       "       15.95728863, 13.21867655, 15.65843607, 16.40453046, 13.51205117,\n",
       "       13.82804517, 11.62199986,  8.95425557, 16.28740951, 14.26130592,\n",
       "       16.51626174, 18.19453828,  7.58204791, 15.97438268, 16.41580146,\n",
       "       11.28022265,  9.83201097, 13.45752251, 16.13229276,  8.5026226 ,\n",
       "       10.01557135, 10.18366757, 11.87712485, 15.20764976, 14.50914358,\n",
       "       13.97385169, 19.67176411,  6.88614314, 19.25971047,  9.47352689])"
      ]
     },
     "execution_count": 119,
     "metadata": {},
     "output_type": "execute_result"
    }
   ],
   "source": [
    "yprd"
   ]
  },
  {
   "cell_type": "code",
   "execution_count": 120,
   "metadata": {},
   "outputs": [
    {
     "data": {
      "text/html": [
       "<div>\n",
       "<style scoped>\n",
       "    .dataframe tbody tr th:only-of-type {\n",
       "        vertical-align: middle;\n",
       "    }\n",
       "\n",
       "    .dataframe tbody tr th {\n",
       "        vertical-align: top;\n",
       "    }\n",
       "\n",
       "    .dataframe thead th {\n",
       "        text-align: right;\n",
       "    }\n",
       "</style>\n",
       "<table border=\"1\" class=\"dataframe\">\n",
       "  <thead>\n",
       "    <tr style=\"text-align: right;\">\n",
       "      <th></th>\n",
       "      <th>Interest.Rate</th>\n",
       "      <th>predicted_Interest_Rate</th>\n",
       "    </tr>\n",
       "  </thead>\n",
       "  <tbody>\n",
       "    <tr>\n",
       "      <th>2037</th>\n",
       "      <td>11.14</td>\n",
       "      <td>13.687928</td>\n",
       "    </tr>\n",
       "    <tr>\n",
       "      <th>271</th>\n",
       "      <td>10.36</td>\n",
       "      <td>11.837702</td>\n",
       "    </tr>\n",
       "    <tr>\n",
       "      <th>2022</th>\n",
       "      <td>7.49</td>\n",
       "      <td>8.204491</td>\n",
       "    </tr>\n",
       "    <tr>\n",
       "      <th>1742</th>\n",
       "      <td>17.27</td>\n",
       "      <td>14.707883</td>\n",
       "    </tr>\n",
       "    <tr>\n",
       "      <th>427</th>\n",
       "      <td>13.11</td>\n",
       "      <td>12.467830</td>\n",
       "    </tr>\n",
       "  </tbody>\n",
       "</table>\n",
       "</div>"
      ],
      "text/plain": [
       "      Interest.Rate  predicted_Interest_Rate\n",
       "2037          11.14                13.687928\n",
       "271           10.36                11.837702\n",
       "2022           7.49                 8.204491\n",
       "1742          17.27                14.707883\n",
       "427           13.11                12.467830"
      ]
     },
     "execution_count": 120,
     "metadata": {},
     "output_type": "execute_result"
    }
   ],
   "source": [
    "# make table of xtest,y test,y predict,difference,and square root of difference of intrest rate\n",
    "temp_compare=pd.DataFrame(ytest)# to make table\n",
    "temp_compare['predicted_Interest_Rate']=yprd\n",
    "temp_compare.head()"
   ]
  },
  {
   "cell_type": "markdown",
   "metadata": {},
   "source": [
    "# find root mean square "
   ]
  },
  {
   "cell_type": "code",
   "execution_count": 121,
   "metadata": {},
   "outputs": [
    {
     "data": {
      "text/plain": [
       "2.082457828767621"
      ]
     },
     "execution_count": 121,
     "metadata": {},
     "output_type": "execute_result"
    }
   ],
   "source": [
    "#root mean square show only one value which is mean of difference\n",
    "# first we square and find mean of all data then we root its mean\n",
    "rmse=(np.mean((yprd-ytest)**2))**(1/2)\n",
    "rmse"
   ]
  },
  {
   "cell_type": "markdown",
   "metadata": {},
   "source": [
    "# to find R sq."
   ]
  },
  {
   "cell_type": "code",
   "execution_count": 122,
   "metadata": {},
   "outputs": [
    {
     "data": {
      "text/plain": [
       "0.7561902944019401"
      ]
     },
     "execution_count": 122,
     "metadata": {},
     "output_type": "execute_result"
    }
   ],
   "source": [
    "ld_model.score(xtest,ytest)"
   ]
  },
  {
   "cell_type": "code",
   "execution_count": 123,
   "metadata": {},
   "outputs": [
    {
     "data": {
      "image/png": "[encoded data removed]",
      "text/plain": [
       "<Figure size 432x288 with 1 Axes>"
      ]
     },
     "metadata": {
      "needs_background": "light"
     },
     "output_type": "display_data"
    }
   ],
   "source": [
    "# ideally the error should be of random values i.e. it can not follow any pattern (it is called homoscadasticity)\n",
    "# if data is not random then it called heteroscadasticity model i.e. it has some outlier\n",
    "import matplotlib.pyplot as plt   #for graph\n",
    "temp_plot=plt.scatter(yprd,(yprd-ytest),c='b',s=5)# yprd is x axis and difference is y axis\n",
    "plt.title('residual plot')\n",
    "plt.xlabel(\"interest rate\")\n",
    "plt.ylabel('(predicted-actual)IR')\n",
    "plt.show()# must write"
   ]
  },
  {
   "cell_type": "code",
   "execution_count": 124,
   "metadata": {},
   "outputs": [],
   "source": [
    "import statsmodels.api as sm"
   ]
  },
  {
   "cell_type": "code",
   "execution_count": 125,
   "metadata": {},
   "outputs": [
    {
     "data": {
      "image/png": "[encoded data removed]",
      "text/plain": [
       "<Figure size 432x288 with 1 Axes>"
      ]
     },
     "metadata": {
      "needs_background": "light"
     },
     "output_type": "display_data"
    }
   ],
   "source": [
    "# to know that data is  normally distributed or not\n",
    "resid=yprd-ytest\n",
    "fig=sm.qqplot(resid)\n",
    "plt.show()"
   ]
  },
  {
   "cell_type": "code",
   "execution_count": 126,
   "metadata": {},
   "outputs": [
    {
     "data": {
      "text/plain": [
       "68.94585874721106"
      ]
     },
     "execution_count": 126,
     "metadata": {},
     "output_type": "execute_result"
    }
   ],
   "source": [
    "ld_model.intercept_"
   ]
  },
  {
   "cell_type": "code",
   "execution_count": null,
   "metadata": {},
   "outputs": [],
   "source": [
    "# to find outlier we use cook distance plot \n",
    "#box plot is use to remove outliers in data(stake hold/get hub)\n",
    "import sklearn.matrics import mean_square_error\n",
    "class CookDist (ld_model)"
   ]
  },
  {
   "cell_type": "code",
   "execution_count": null,
   "metadata": {},
   "outputs": [],
   "source": []
  }
 ],
 "metadata": {
  "kernelspec": {
   "display_name": "Python 3",
   "language": "python",
   "name": "python3"
  },
  "language_info": {
   "codemirror_mode": {
    "name": "ipython",
    "version": 3
   },
   "file_extension": ".py",
   "mimetype": "text/x-python",
   "name": "python",
   "nbconvert_exporter": "python",
   "pygments_lexer": "ipython3",
   "version": "3.7.3"
  }
 },
 "nbformat": 4,
 "nbformat_minor": 2
}
