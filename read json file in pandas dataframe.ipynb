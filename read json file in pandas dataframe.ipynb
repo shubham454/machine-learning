{
 "cells": [
  {
   "cell_type": "code",
   "execution_count": 10,
   "metadata": {},
   "outputs": [],
   "source": [
    "import pandas as pd"
   ]
  },
  {
   "cell_type": "code",
   "execution_count": 11,
   "metadata": {},
   "outputs": [
    {
     "data": {
      "text/html": [
       "<div>\n",
       "<style scoped>\n",
       "    .dataframe tbody tr th:only-of-type {\n",
       "        vertical-align: middle;\n",
       "    }\n",
       "\n",
       "    .dataframe tbody tr th {\n",
       "        vertical-align: top;\n",
       "    }\n",
       "\n",
       "    .dataframe thead th {\n",
       "        text-align: right;\n",
       "    }\n",
       "</style>\n",
       "<table border=\"1\" class=\"dataframe\">\n",
       "  <thead>\n",
       "    <tr style=\"text-align: right;\">\n",
       "      <th></th>\n",
       "      <th>Install</th>\n",
       "      <th>Kernel</th>\n",
       "      <th>Name</th>\n",
       "      <th>Owner</th>\n",
       "      <th>Version</th>\n",
       "    </tr>\n",
       "  </thead>\n",
       "  <tbody>\n",
       "    <tr>\n",
       "      <th>0</th>\n",
       "      <td>apt</td>\n",
       "      <td>4.90</td>\n",
       "      <td>Debian</td>\n",
       "      <td>SPI</td>\n",
       "      <td>9</td>\n",
       "    </tr>\n",
       "    <tr>\n",
       "      <th>1</th>\n",
       "      <td>apt</td>\n",
       "      <td>4.13</td>\n",
       "      <td>Ubuntu</td>\n",
       "      <td>Canonical</td>\n",
       "      <td>17.10</td>\n",
       "    </tr>\n",
       "    <tr>\n",
       "      <th>2</th>\n",
       "      <td>dnf</td>\n",
       "      <td>4.13</td>\n",
       "      <td>Fedora</td>\n",
       "      <td>Red Hat</td>\n",
       "      <td>26</td>\n",
       "    </tr>\n",
       "    <tr>\n",
       "      <th>3</th>\n",
       "      <td>yum</td>\n",
       "      <td>3.10</td>\n",
       "      <td>CentOS</td>\n",
       "      <td>Red Hat</td>\n",
       "      <td>7</td>\n",
       "    </tr>\n",
       "    <tr>\n",
       "      <th>4</th>\n",
       "      <td>zypper</td>\n",
       "      <td>4.40</td>\n",
       "      <td>OpenSUSE</td>\n",
       "      <td>Novell</td>\n",
       "      <td>42.3</td>\n",
       "    </tr>\n",
       "    <tr>\n",
       "      <th>5</th>\n",
       "      <td>pacman</td>\n",
       "      <td>4.13</td>\n",
       "      <td>Arch Linux</td>\n",
       "      <td>SPI</td>\n",
       "      <td>Rolling Release</td>\n",
       "    </tr>\n",
       "    <tr>\n",
       "      <th>6</th>\n",
       "      <td>emerge</td>\n",
       "      <td>4.12</td>\n",
       "      <td>Gentoo</td>\n",
       "      <td>Gentoo Foundation</td>\n",
       "      <td>Rolling Release</td>\n",
       "    </tr>\n",
       "  </tbody>\n",
       "</table>\n",
       "</div>"
      ],
      "text/plain": [
       "  Install  Kernel        Name              Owner          Version\n",
       "0     apt    4.90      Debian                SPI                9\n",
       "1     apt    4.13      Ubuntu          Canonical            17.10\n",
       "2     dnf    4.13      Fedora            Red Hat               26\n",
       "3     yum    3.10      CentOS            Red Hat                7\n",
       "4  zypper    4.40    OpenSUSE             Novell             42.3\n",
       "5  pacman    4.13  Arch Linux                SPI  Rolling Release\n",
       "6  emerge    4.12      Gentoo  Gentoo Foundation  Rolling Release"
      ]
     },
     "execution_count": 11,
     "metadata": {},
     "output_type": "execute_result"
    }
   ],
   "source": [
    "pd.read_json('C:\\\\Users\\\\Shubham\\\\Desktop\\\\abc.json')"
   ]
  },
  {
   "cell_type": "code",
   "execution_count": null,
   "metadata": {},
   "outputs": [],
   "source": []
  }
 ],
 "metadata": {
  "kernelspec": {
   "display_name": "Python 3",
   "language": "python",
   "name": "python3"
  },
  "language_info": {
   "codemirror_mode": {
    "name": "ipython",
    "version": 3
   },
   "file_extension": ".py",
   "mimetype": "text/x-python",
   "name": "python",
   "nbconvert_exporter": "python",
   "pygments_lexer": "ipython3",
   "version": "3.7.3"
  }
 },
 "nbformat": 4,
 "nbformat_minor": 2
}
